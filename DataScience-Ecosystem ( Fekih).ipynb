{
 "cells": [
  {
   "cell_type": "markdown",
   "metadata": {},
   "source": [
    "<center>\n",
    "    <img src=\"https://cf-courses-data.s3.us.cloud-object-storage.appdomain.cloud/IBMDeveloperSkillsNetwork-DS0105EN-SkillsNetwork/labs/Module2/images/SN_web_lightmode.png\" width=\"300\" alt=\"cognitiveclass.ai logo\">\n",
    "</center>\n"
   ]
  },
  {
   "cell_type": "markdown",
   "metadata": {},
   "source": [
    "# \n",
    "# <p style=\"background-color:#fef0e9;font-family:newtimeroman;font-size:150%;color:#AF4343;text-align:center;border-radius:15px 50px;padding:7px;border:solid 3px #AF4343;\">Data Science Notebook</p>"
   ]
  },
  {
   "cell_type": "markdown",
   "metadata": {},
   "source": [
    "## <p style=\"display: inline-block; padding: 7px; background-color: #fef0e9; color: #AF4343; text-decoration: none; border-radius: 8px 8px; font-size: 150%; text-align: center; border: 3px solid #AF4343; font-family: 'New Times Roman', serif;\">  Introduction </p>\n",
    "\n",
    "Welcome to this notebook where we explore various aspects of data science!"
   ]
  },
  {
   "cell_type": "markdown",
   "metadata": {},
   "source": [
    "## <p style=\"display: inline-block; padding: 7px; background-color: #fef0e9; color: #AF4343; text-decoration: none; border-radius: 8px 8px; font-size: 150%; text-align: center; border: 3px solid #AF4343; font-family: 'New Times Roman', serif;\">  Data Science Languages </p>\n",
    "- Python\n",
    "- R\n",
    "- SQL"
   ]
  },
  {
   "cell_type": "markdown",
   "metadata": {},
   "source": [
    "## <p style=\"display: inline-block; padding: 7px; background-color: #fef0e9; color: #AF4343; text-decoration: none; border-radius: 8px 8px; font-size: 150%; text-align: center; border: 3px solid #AF4343; font-family: 'New Times Roman', serif;\">  Data Science Libraries  </p>\n",
    "Data Science Languages\n",
    "- Pandas\n",
    "- NumPy\n",
    "- Scikit-learn\n",
    "- TensorFlow\n",
    "- PyTorch"
   ]
  },
  {
   "cell_type": "markdown",
   "metadata": {},
   "source": [
    "## <p style=\"display: inline-block; padding: 7px; background-color: #fef0e9; color: #AF4343; text-decoration: none; border-radius: 8px 8px; font-size: 150%; text-align: center; border: 3px solid #AF4343; font-family: 'New Times Roman', serif;\">  Data Science Tools  </p>\n",
    "| Tool               | Purpose                   |\n",
    "|--------------------|---------------------------|\n",
    "| Jupyter Notebooks  | Interactive development   |\n",
    "| VS Code            | Integrated development    |\n",
    "| Tableau            | Data visualization        |\n"
   ]
  },
  {
   "cell_type": "markdown",
   "metadata": {},
   "source": [
    "## <p style=\"display: inline-block; padding: 7px; background-color: #fef0e9; color: #AF4343; text-decoration: none; border-radius: 8px 8px; font-size: 150%; text-align: center; border: 3px solid #AF4343; font-family: 'New Times Roman', serif;\">  Arithmetic Expressions  </p>\n",
    "In this section, we'll explore examples of arithmetic expressions.\n"
   ]
  },
  {
   "cell_type": "markdown",
   "metadata": {},
   "source": [
    "\n",
    "## <p style=\"display: inline-block; padding: 7px; background-color: #fef0e9; color: #AF4343; text-decoration: none; border-radius: 8px 8px; font-size: 150%; text-align: center; border: 3px solid #AF4343; font-family: 'New Times Roman', serif;\"> Code to multiply and add numbers  </p>"
   ]
  },
  {
   "cell_type": "code",
   "execution_count": 2,
   "metadata": {},
   "outputs": [
    {
     "name": "stdout",
     "output_type": "stream",
     "text": [
      "Multiplication Result: 15, Addition Result: 8\n"
     ]
    }
   ],
   "source": [
    "a = 5\n",
    "b = 3\n",
    "result_multiply = a * b\n",
    "result_addition = a + b\n",
    "\n",
    "print(f\"Multiplication Result: {result_multiply}, Addition Result: {result_addition}\")"
   ]
  },
  {
   "cell_type": "markdown",
   "metadata": {},
   "source": [
    "\n",
    "## <p style=\"display: inline-block; padding: 7px; background-color: #fef0e9; color: #AF4343; text-decoration: none; border-radius: 8px 8px; font-size: 150%; text-align: center; border: 3px solid #AF4343; font-family: 'New Times Roman', serif;\"> Code to convert minutes to hours </p>"
   ]
  },
  {
   "cell_type": "code",
   "execution_count": 3,
   "metadata": {},
   "outputs": [
    {
     "name": "stdout",
     "output_type": "stream",
     "text": [
      "120 minutes is equal to 2.0 hours.\n"
     ]
    }
   ],
   "source": [
    "minutes = 120\n",
    "hours = minutes / 60\n",
    "print(f\"{minutes} minutes is equal to {hours} hours.\")"
   ]
  },
  {
   "cell_type": "markdown",
   "metadata": {},
   "source": [
    "## <p style=\"display: inline-block; padding: 7px; background-color: #fef0e9; color: #AF4343; text-decoration: none; border-radius: 8px 8px; font-size: 150%; text-align: center; border: 3px solid #AF4343; font-family: 'New Times Roman', serif;\"> Objectives </p>\n",
    "\n",
    "* Explore data science languages and libraries\n",
    "* Understand arithmetic expressions and coding examples\n",
    "* Learn to use data science tools effectively"
   ]
  },
  {
   "cell_type": "markdown",
   "metadata": {},
   "source": [
    "\n",
    "## <p style=\"display: inline-block; padding: 7px; background-color: #fef0e9; color: #AF4343; text-decoration: none; border-radius: 8px 8px; font-size: 150%; text-align: center; border: 3px solid #AF4343; font-family: 'New Times Roman', serif;\"> Author </p>\n",
    "Fekih Mohamed el Amin"
   ]
  },
  {
   "cell_type": "markdown",
   "metadata": {},
   "source": [
    "## <p style=\"display: inline-block; padding: 7px; background-color: #fef0e9; color: #AF4343; text-decoration: none; border-radius: 8px 8px; font-size: 150%; text-align: center; border: 3px solid #AF4343; font-family: 'New Times Roman', serif;\"> Sharing on GitHub </p>\n",
    "\n",
    "<br><br>\n",
    "<a href=\"https://github.com/meafekih/DataScience-Ecosystem-Fekih-/blob/master/DataScience-Ecosystem%20(%20Fekih).ipynb\" style=\"background-color:#e6daf9;font-family:newtimeroman;font-size:170%;color:#7541ca;text-align:center;border-radius:10px 70px;padding:7px;border:solid 3px #4e2b87;\">-   To share this notebook, it has been uploaded to GitHub.   -</a>\n",
    "<br><br>"
   ]
  },
  {
   "cell_type": "code",
   "execution_count": null,
   "metadata": {},
   "outputs": [],
   "source": []
  }
 ],
 "metadata": {
  "kernelspec": {
   "display_name": "Python 3 (ipykernel)",
   "language": "python",
   "name": "python3"
  },
  "language_info": {
   "codemirror_mode": {
    "name": "ipython",
    "version": 3
   },
   "file_extension": ".py",
   "mimetype": "text/x-python",
   "name": "python",
   "nbconvert_exporter": "python",
   "pygments_lexer": "ipython3",
   "version": "3.11.5"
  }
 },
 "nbformat": 4,
 "nbformat_minor": 4
}
